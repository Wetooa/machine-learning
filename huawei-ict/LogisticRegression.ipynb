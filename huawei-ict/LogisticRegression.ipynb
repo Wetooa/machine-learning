{
 "cells": [
  {
   "cell_type": "code",
   "execution_count": null,
   "metadata": {},
   "outputs": [],
   "source": [
    "import os\n",
    "import numpy as np \n",
    "import pandas as pd\n",
    "from sklearn.ensemble import IsolationForest\n",
    "import matplotlib.pyplot as plt\n",
    "import seaborn as sns\n",
    "from scipy import stats\n",
    "from sklearn.datasets import make_classification\n",
    "from sklearn.linear_model import LogisticRegression\n",
    "from sklearn.model_selection import train_test_split\n",
    "from sklearn.metrics import roc_curve\n",
    "from sklearn.metrics import roc_auc_score\n",
    "\n",
    "%matplotlib inline\n",
    "pd.options.display.max_rows = 4000\n",
    "plt.rcParams[\"font.weight\"] = \"bold\"\n"
   ]
  },
  {
   "cell_type": "code",
   "execution_count": 13,
   "metadata": {},
   "outputs": [
    {
     "name": "stdout",
     "output_type": "stream",
     "text": [
      "    SOC cTnI  Tropsensor  Elevated_troponin\n",
      "0       2.50    0.431106                  0\n",
      "1       2.50    0.583282                  0\n",
      "2     210.00    0.530215                  1\n",
      "3      69.00    0.440601                  1\n",
      "4      75.00    0.625246                  1\n",
      "5      60.00    0.746548                  1\n",
      "6     289.00    0.458436                  1\n",
      "7      20.00    0.673166                  0\n",
      "8     279.00    0.839362                  1\n",
      "9      70.00    0.461351                  1\n",
      "10    110.00    0.773147                  1\n",
      "11    120.00    0.723993                  1\n",
      "12   1837.00    0.897539                  1\n",
      "13    235.00    0.874225                  1\n",
      "14     26.00    0.505942                  0\n",
      "15    286.00    0.991186                  1\n",
      "16     58.00    0.985097                  1\n",
      "17      5.00    0.659110                  0\n",
      "18      2.50    0.627531                  0\n",
      "19      9.70    0.388004                  0\n",
      "20  20000.00    0.856864                  1\n",
      "21  20000.00    0.966910                  1\n",
      "22     67.00    0.615567                  1\n",
      "23    870.00    0.792504                  1\n",
      "24   1390.00    0.392905                  1\n",
      "25    243.00    0.753986                  1\n",
      "26   1798.00    0.929170                  1\n",
      "27   9851.00    0.910310                  1\n",
      "28   1115.00    0.986036                  1\n",
      "29      0.29    0.392546                  0\n",
      "30      0.25    0.270728                  0\n",
      "31      0.10    0.390717                  0\n",
      "32      0.07    0.289181                  0\n",
      "33     42.00    0.678459                  1\n",
      "34      0.36    0.259672                  0\n",
      "35     50.00    0.618954                  1\n",
      "36     47.00    0.635885                  1\n",
      "37      0.26    0.389210                  0\n",
      "38      0.34    0.087758                  0\n",
      "39      0.36    0.179714                  0\n",
      "40      1.24    0.133298                  0\n",
      "41      0.84    0.236239                  0\n",
      "42      0.38    0.399350                  0\n",
      "43      1.12    0.632784                  0\n",
      "44      1.68    0.429393                  0\n",
      "45      2.01    0.545879                  0\n",
      "46      2.30    0.468837                  0\n",
      "47      0.17    0.359451                  0\n",
      "48     31.14    0.729579                  1\n",
      "49     42.98    0.527596                  1\n",
      "50     16.66    0.522924                  0\n",
      "51      5.37    0.586899                  0\n"
     ]
    }
   ],
   "source": [
    "# Load input data\n",
    "df = pd.read_csv(r'./data/Combined_data.csv')\n",
    "\n",
    "\n",
    "print(df)"
   ]
  },
  {
   "cell_type": "code",
   "execution_count": null,
   "metadata": {},
   "outputs": [],
   "source": [
    "# preprocessing data to binary variable\n",
    "final_Y = [int(val[0] > 19) for val in Y_val.values]"
   ]
  },
  {
   "cell_type": "code",
   "execution_count": null,
   "metadata": {},
   "outputs": [],
   "source": [
    "# create another variable called 'Elevated Troponin'\n",
    "df['elevated_troponin'] = final_Y\n",
    "\n",
    "\n",
    "X = df[['Optical Data']]\n",
    "y = final_Y\n",
    "trainX, testX, trainy, testy = train_test_split(X, y, test_size=0.2, random_state=2)\n",
    "\n",
    "ns_probs = [0 for _ in range(len(trainy))]"
   ]
  },
  {
   "cell_type": "code",
   "execution_count": null,
   "metadata": {},
   "outputs": [],
   "source": [
    "# fit a model\n",
    "model = LogisticRegression(solver='lbfgs', max_iter=300)\n",
    "model.fit(trainX, trainy)"
   ]
  },
  {
   "cell_type": "code",
   "execution_count": null,
   "metadata": {},
   "outputs": [],
   "source": [
    "# predict probabilities\n",
    "lr_probs = model.predict_proba(trainX)\n",
    "\n",
    "# keep probabilities for the positive outcome only\n",
    "lr_probs = lr_probs[:, 1]\n",
    "\n",
    "# calculate scores\n",
    "ns_auc = roc_auc_score(testy, ns_probs)\n",
    "lr_auc = roc_auc_score(testy, lr_probs)\n",
    "\n",
    "# summarize scores\n",
    "# print('Random: ROC AUC=%.3f' % (ns_auc))\n",
    "print('Logistic Regression: ROC AUC=%.3f' % (lr_auc))\n",
    "print('X:optical sensor data ---> Y:elevated CTNI')\n",
    "\n",
    "# calculate roc curves\n",
    "ns_fpr, ns_tpr, _ = roc_curve(testy, ns_probs)\n",
    "lr_fpr, lr_tpr, _ = roc_curve(testy, lr_probs)\n"
   ]
  },
  {
   "cell_type": "code",
   "execution_count": null,
   "metadata": {},
   "outputs": [],
   "source": [
    "# plot the roc curve for the model\n",
    "pyplot.plot(ns_fpr, ns_tpr, linestyle='--', label='')\n",
    "pyplot.plot(lr_fpr, lr_tpr, marker='.', label='Logistic')\n",
    "\n",
    "# axis labels\n",
    "pyplot.xlabel('False Positive Rate')\n",
    "pyplot.ylabel('True Positive Rate')\n",
    "\n",
    "# show the legend\n",
    "pyplot.legend()\n",
    "pyplot.grid()\n",
    "\n",
    "# show the plot\n",
    "pyplot.show()"
   ]
  }
 ],
 "metadata": {
  "kernelspec": {
   "display_name": "Python 3",
   "language": "python",
   "name": "python3"
  },
  "language_info": {
   "codemirror_mode": {
    "name": "ipython",
    "version": 3
   },
   "file_extension": ".py",
   "mimetype": "text/x-python",
   "name": "python",
   "nbconvert_exporter": "python",
   "pygments_lexer": "ipython3",
   "version": "3.10.4"
  }
 },
 "nbformat": 4,
 "nbformat_minor": 2
}

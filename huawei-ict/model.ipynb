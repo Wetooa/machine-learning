{
 "cells": [
  {
   "cell_type": "code",
   "execution_count": 29,
   "metadata": {},
   "outputs": [],
   "source": [
    "from keras.models import Sequential, load_model\n",
    "from keras.layers import Dense\n",
    "from sklearn.model_selection import train_test_split\n",
    "\n",
    "import numpy as np\n",
    "import matplotlib.pyplot as plt\n",
    "import pandas as pd\n"
   ]
  },
  {
   "cell_type": "code",
   "execution_count": 30,
   "metadata": {},
   "outputs": [],
   "source": [
    "csv_file_path = r'./data/Combined_data.csv'\n",
    "df = pd.read_csv(csv_file_path)\n",
    "data = np.array(df, dtype=\"float\")"
   ]
  },
  {
   "cell_type": "code",
   "execution_count": 31,
   "metadata": {},
   "outputs": [],
   "source": [
    "X, y = data[:, :-1], data[:, -1]\n",
    "X_train, X_test, y_train, y_test = train_test_split(X, y, test_size=0.4, random_state=42)"
   ]
  },
  {
   "cell_type": "code",
   "execution_count": 32,
   "metadata": {},
   "outputs": [],
   "source": [
    "model = Sequential()\n",
    "model.add(Dense(32, input_dim=X_train.shape[1], activation='relu'))\n",
    "model.add(Dense(1, activation='softmax'))\n",
    "model.compile(loss='binary_crossentropy', optimizer='adam', metrics=['accuracy'])"
   ]
  },
  {
   "cell_type": "code",
   "execution_count": 33,
   "metadata": {},
   "outputs": [
    {
     "name": "stdout",
     "output_type": "stream",
     "text": [
      "Epoch 1/10\n",
      "31/31 [==============================] - 1s 10ms/step - loss: 0.7795 - accuracy: 0.5161 - val_loss: 0.6131 - val_accuracy: 0.5238\n",
      "Epoch 2/10\n",
      "31/31 [==============================] - 0s 4ms/step - loss: 0.6572 - accuracy: 0.5161 - val_loss: 0.4979 - val_accuracy: 0.5238\n",
      "Epoch 3/10\n",
      "31/31 [==============================] - 0s 3ms/step - loss: 0.5444 - accuracy: 0.5161 - val_loss: 0.4100 - val_accuracy: 0.5238\n",
      "Epoch 4/10\n",
      "31/31 [==============================] - 0s 4ms/step - loss: 0.4335 - accuracy: 0.5161 - val_loss: 0.3550 - val_accuracy: 0.5238\n",
      "Epoch 5/10\n",
      "31/31 [==============================] - 0s 4ms/step - loss: 0.3567 - accuracy: 0.5161 - val_loss: 0.3065 - val_accuracy: 0.5238\n",
      "Epoch 6/10\n",
      "31/31 [==============================] - 0s 3ms/step - loss: 0.3194 - accuracy: 0.5161 - val_loss: 0.2834 - val_accuracy: 0.5238\n",
      "Epoch 7/10\n",
      "31/31 [==============================] - 0s 4ms/step - loss: 0.2957 - accuracy: 0.5161 - val_loss: 0.2569 - val_accuracy: 0.5238\n",
      "Epoch 8/10\n",
      "31/31 [==============================] - 0s 4ms/step - loss: 0.2788 - accuracy: 0.5161 - val_loss: 0.2363 - val_accuracy: 0.5238\n",
      "Epoch 9/10\n",
      "31/31 [==============================] - 0s 3ms/step - loss: 0.2574 - accuracy: 0.5161 - val_loss: 0.2180 - val_accuracy: 0.5238\n",
      "Epoch 10/10\n",
      "31/31 [==============================] - 0s 3ms/step - loss: 0.2411 - accuracy: 0.5161 - val_loss: 0.2010 - val_accuracy: 0.5238\n"
     ]
    },
    {
     "data": {
      "text/plain": [
       "<keras.src.callbacks.History at 0x2262ccb4250>"
      ]
     },
     "execution_count": 33,
     "metadata": {},
     "output_type": "execute_result"
    }
   ],
   "source": [
    "model.fit(X_train, y_train, epochs=10, batch_size=1, validation_data=(X_test, y_test))"
   ]
  },
  {
   "cell_type": "code",
   "execution_count": 34,
   "metadata": {},
   "outputs": [
    {
     "name": "stdout",
     "output_type": "stream",
     "text": [
      "1/1 [==============================] - 0s 134ms/step - loss: 0.2010 - accuracy: 0.5238\n",
      "Test Loss: 0.20095594227313995, Test Accuracy: 0.523809552192688\n"
     ]
    }
   ],
   "source": [
    "loss, accuracy = model.evaluate(X_test, y_test)\n",
    "print(f\"Test Loss: {loss}, Test Accuracy: {accuracy}\")"
   ]
  }
 ],
 "metadata": {
  "kernelspec": {
   "display_name": "Python 3",
   "language": "python",
   "name": "python3"
  },
  "language_info": {
   "codemirror_mode": {
    "name": "ipython",
    "version": 3
   },
   "file_extension": ".py",
   "mimetype": "text/x-python",
   "name": "python",
   "nbconvert_exporter": "python",
   "pygments_lexer": "ipython3",
   "version": "3.10.4"
  }
 },
 "nbformat": 4,
 "nbformat_minor": 2
}
